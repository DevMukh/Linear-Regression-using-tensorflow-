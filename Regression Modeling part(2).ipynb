{
 "cells": [
  {
   "cell_type": "code",
   "execution_count": 1,
   "id": "8059073a",
   "metadata": {},
   "outputs": [
    {
     "name": "stdout",
     "output_type": "stream",
     "text": [
      "WARNING:tensorflow:From C:\\Users\\xaadk\\AppData\\Roaming\\Python\\Python311\\site-packages\\keras\\src\\losses.py:2976: The name tf.losses.sparse_softmax_cross_entropy is deprecated. Please use tf.compat.v1.losses.sparse_softmax_cross_entropy instead.\n",
      "\n"
     ]
    }
   ],
   "source": [
    "import tensorflow as tf"
   ]
  },
  {
   "cell_type": "code",
   "execution_count": 2,
   "id": "51937d6f",
   "metadata": {},
   "outputs": [],
   "source": [
    "from matplotlib import pyplot as plt"
   ]
  },
  {
   "cell_type": "code",
   "execution_count": 3,
   "id": "9ab991fb",
   "metadata": {},
   "outputs": [],
   "source": [
    "import numpy as np"
   ]
  },
  {
   "cell_type": "code",
   "execution_count": 4,
   "id": "0475c049",
   "metadata": {},
   "outputs": [
    {
     "data": {
      "text/plain": [
       "(array([[1, 2, 3, 4]]),\n",
       " <tf.Tensor: shape=(4,), dtype=int64, numpy=array([0, 0, 0, 0], dtype=int64)>)"
      ]
     },
     "execution_count": 4,
     "metadata": {},
     "output_type": "execute_result"
    }
   ],
   "source": [
    "#X=np.random.randint(1,20,size=30)\n",
    "X=np.array([[1,2,3,4]])\n",
    "X,tf.argmax(X)\n"
   ]
  },
  {
   "cell_type": "code",
   "execution_count": 5,
   "id": "908b372a",
   "metadata": {},
   "outputs": [
    {
     "data": {
      "text/plain": [
       "(2,\n",
       " <tf.Tensor: shape=(1, 4), dtype=float32, numpy=array([[1., 2., 3., 4.]], dtype=float32)>)"
      ]
     },
     "execution_count": 5,
     "metadata": {},
     "output_type": "execute_result"
    }
   ],
   "source": [
    "X.ndim,tf.cast(X,dtype=tf.float32)"
   ]
  },
  {
   "cell_type": "code",
   "execution_count": 6,
   "id": "10d29e4f",
   "metadata": {},
   "outputs": [
    {
     "data": {
      "text/plain": [
       "<tf.Tensor: shape=(2,), dtype=int32, numpy=array([1, 4])>"
      ]
     },
     "execution_count": 6,
     "metadata": {},
     "output_type": "execute_result"
    }
   ],
   "source": [
    "tf.shape(X)"
   ]
  },
  {
   "cell_type": "code",
   "execution_count": 7,
   "id": "e59dcecd",
   "metadata": {},
   "outputs": [
    {
     "data": {
      "text/plain": [
       "(array([[5, 6, 7, 8]]),\n",
       " <tf.Tensor: shape=(1, 4), dtype=float32, numpy=array([[5., 6., 7., 8.]], dtype=float32)>,\n",
       " <tf.Tensor: shape=(2,), dtype=int32, numpy=array([1, 4])>)"
      ]
     },
     "execution_count": 7,
     "metadata": {},
     "output_type": "execute_result"
    }
   ],
   "source": [
    "#y=np.random.randint(1,20,size=30)\n",
    "y=np.array([[5,6,7,8]])\n",
    "y,tf.cast(y,dtype=tf.float32),tf.shape(y)"
   ]
  },
  {
   "cell_type": "code",
   "execution_count": 8,
   "id": "98d944fe",
   "metadata": {},
   "outputs": [
    {
     "data": {
      "text/plain": [
       "<matplotlib.collections.PathCollection at 0x2cc3fbfd4d0>"
      ]
     },
     "execution_count": 8,
     "metadata": {},
     "output_type": "execute_result"
    },
    {
     "data": {
      "image/png": "[encoded data removed]",
      "text/plain": [
       "<Figure size 640x480 with 1 Axes>"
      ]
     },
     "metadata": {},
     "output_type": "display_data"
    }
   ],
   "source": [
    "plt.scatter(X,y)"
   ]
  },
  {
   "cell_type": "code",
   "execution_count": 9,
   "id": "1777c2ee",
   "metadata": {},
   "outputs": [],
   "source": [
    "#creating a model\n",
    "#comping a model\n",
    "#fiting a model"
   ]
  },
  {
   "cell_type": "code",
   "execution_count": 10,
   "id": "53683b48",
   "metadata": {},
   "outputs": [],
   "source": [
    "from tensorflow import keras\n",
    "from tensorflow.keras import layers"
   ]
  },
  {
   "cell_type": "code",
   "execution_count": 11,
   "id": "03fb3525",
   "metadata": {},
   "outputs": [
    {
     "data": {
      "text/plain": [
       "(2, 2)"
      ]
     },
     "execution_count": 11,
     "metadata": {},
     "output_type": "execute_result"
    }
   ],
   "source": [
    "X.ndim,y.ndim"
   ]
  },
  {
   "cell_type": "code",
   "execution_count": 12,
   "id": "f910b8c1",
   "metadata": {},
   "outputs": [
    {
     "name": "stdout",
     "output_type": "stream",
     "text": [
      "WARNING:tensorflow:From C:\\Users\\xaadk\\AppData\\Roaming\\Python\\Python311\\site-packages\\keras\\src\\backend.py:873: The name tf.get_default_graph is deprecated. Please use tf.compat.v1.get_default_graph instead.\n",
      "\n",
      "Epoch 1/15\n",
      "WARNING:tensorflow:From C:\\Users\\xaadk\\AppData\\Roaming\\Python\\Python311\\site-packages\\keras\\src\\utils\\tf_utils.py:492: The name tf.ragged.RaggedTensorValue is deprecated. Please use tf.compat.v1.ragged.RaggedTensorValue instead.\n",
      "\n",
      "WARNING:tensorflow:From C:\\Users\\xaadk\\AppData\\Roaming\\Python\\Python311\\site-packages\\keras\\src\\engine\\base_layer_utils.py:384: The name tf.executing_eagerly_outside_functions is deprecated. Please use tf.compat.v1.executing_eagerly_outside_functions instead.\n",
      "\n",
      "1/1 [==============================] - 1s 604ms/step - loss: 6.4196 - mae: 6.4196\n",
      "Epoch 2/15\n",
      "1/1 [==============================] - 0s 10ms/step - loss: 6.1096 - mae: 6.1096\n",
      "Epoch 3/15\n",
      "1/1 [==============================] - 0s 9ms/step - loss: 5.7996 - mae: 5.7996\n",
      "Epoch 4/15\n",
      "1/1 [==============================] - 0s 8ms/step - loss: 5.4896 - mae: 5.4896\n",
      "Epoch 5/15\n",
      "1/1 [==============================] - 0s 8ms/step - loss: 5.1796 - mae: 5.1796\n",
      "Epoch 6/15\n",
      "1/1 [==============================] - 0s 10ms/step - loss: 4.8696 - mae: 4.8696\n",
      "Epoch 7/15\n",
      "1/1 [==============================] - 0s 10ms/step - loss: 4.5596 - mae: 4.5596\n",
      "Epoch 8/15\n",
      "1/1 [==============================] - 0s 8ms/step - loss: 4.2496 - mae: 4.2496\n",
      "Epoch 9/15\n",
      "1/1 [==============================] - 0s 8ms/step - loss: 3.9396 - mae: 3.9396\n",
      "Epoch 10/15\n",
      "1/1 [==============================] - 0s 8ms/step - loss: 3.6296 - mae: 3.6296\n",
      "Epoch 11/15\n",
      "1/1 [==============================] - 0s 9ms/step - loss: 3.3196 - mae: 3.3196\n",
      "Epoch 12/15\n",
      "1/1 [==============================] - 0s 7ms/step - loss: 3.0096 - mae: 3.0096\n",
      "Epoch 13/15\n",
      "1/1 [==============================] - 0s 8ms/step - loss: 2.6996 - mae: 2.6996\n",
      "Epoch 14/15\n",
      "1/1 [==============================] - 0s 8ms/step - loss: 2.3896 - mae: 2.3896\n",
      "Epoch 15/15\n",
      "1/1 [==============================] - 0s 7ms/step - loss: 2.0796 - mae: 2.0796\n"
     ]
    },
    {
     "data": {
      "text/plain": [
       "<keras.src.callbacks.History at 0x2cc41547190>"
      ]
     },
     "execution_count": 12,
     "metadata": {},
     "output_type": "execute_result"
    }
   ],
   "source": [
    "#1.create model\n",
    "tf.random.set_seed(42)\n",
    "model=tf.keras.Sequential([\n",
    "   tf.keras.layers.Dense(1)\n",
    "])\n",
    "#compile model\n",
    "model.compile(optimizer=tf.keras.optimizers.SGD(),\n",
    "              loss=tf.keras.losses.mae,\n",
    "              metrics=[\"mae\"])\n",
    "\n",
    "#fiting a model with epocs\n",
    "model.fit(X,y,epochs=15)"
   ]
  },
  {
   "cell_type": "code",
   "execution_count": 13,
   "id": "91e7b405",
   "metadata": {},
   "outputs": [],
   "source": [
    "#starting from here we can generate another ownarray declaration\n",
    "#we use array with 2 dim"
   ]
  },
  {
   "cell_type": "code",
   "execution_count": 14,
   "id": "93662ad1",
   "metadata": {},
   "outputs": [
    {
     "data": {
      "text/plain": [
       "(array([[1, 2, 3, 4, 5, 6, 7]]), array([[ 2,  4,  6,  8, 10, 12, 14]]))"
      ]
     },
     "execution_count": 14,
     "metadata": {},
     "output_type": "execute_result"
    }
   ],
   "source": [
    "X1=np.array([[1,2,3,4,5,6,7]])\n",
    "X1\n",
    "X2=np.array([[2,4,6,8,10,12,14\n",
    "             ]])\n",
    "X1,X2"
   ]
  },
  {
   "cell_type": "code",
   "execution_count": 15,
   "id": "4c7390ba",
   "metadata": {},
   "outputs": [
    {
     "data": {
      "text/plain": [
       "(<tf.Tensor: shape=(1, 7), dtype=float32, numpy=array([[1., 2., 3., 4., 5., 6., 7.]], dtype=float32)>,\n",
       " <tf.Tensor: shape=(1, 7), dtype=float32, numpy=array([[ 2.,  4.,  6.,  8., 10., 12., 14.]], dtype=float32)>)"
      ]
     },
     "execution_count": 15,
     "metadata": {},
     "output_type": "execute_result"
    }
   ],
   "source": [
    "X1_tensor=tf.constant(X1,dtype=tf.float32)\n",
    "X2_tensor=tf.constant(X2,dtype=tf.float32)\n",
    "X1_tensor,X2_tensor"
   ]
  },
  {
   "cell_type": "code",
   "execution_count": 16,
   "id": "632aec98",
   "metadata": {},
   "outputs": [
    {
     "data": {
      "text/plain": [
       "True"
      ]
     },
     "execution_count": 16,
     "metadata": {},
     "output_type": "execute_result"
    }
   ],
   "source": [
    "X1_tensor.ndim==X2_tensor.ndim"
   ]
  },
  {
   "cell_type": "code",
   "execution_count": 17,
   "id": "700d4669",
   "metadata": {},
   "outputs": [
    {
     "data": {
      "text/plain": [
       "<matplotlib.collections.PathCollection at 0x2cc4161df10>"
      ]
     },
     "execution_count": 17,
     "metadata": {},
     "output_type": "execute_result"
    },
    {
     "data": {
      "image/png": "[encoded data removed]",
      "text/plain": [
       "<Figure size 640x480 with 1 Axes>"
      ]
     },
     "metadata": {},
     "output_type": "display_data"
    }
   ],
   "source": [
    "plt.scatter(X1_tensor,X2_tensor)"
   ]
  },
  {
   "cell_type": "code",
   "execution_count": 18,
   "id": "26466e3f",
   "metadata": {},
   "outputs": [
    {
     "data": {
      "image/png": "[encoded data removed]",
      "text/plain": [
       "<Figure size 640x480 with 1 Axes>"
      ]
     },
     "metadata": {},
     "output_type": "display_data"
    }
   ],
   "source": [
    "import matplotlib.pyplot as plt\n",
    "\n",
    "plt.plot(X1_tensor,X2_tensor,marker = 'o')\n",
    "plt.grid()\n",
    "plt.show()"
   ]
  },
  {
   "cell_type": "code",
   "execution_count": 19,
   "id": "f40c8da0",
   "metadata": {},
   "outputs": [
    {
     "data": {
      "image/png": "[encoded data removed]",
      "text/plain": [
       "<Figure size 640x480 with 1 Axes>"
      ]
     },
     "metadata": {},
     "output_type": "display_data"
    }
   ],
   "source": [
    "plt.plot(X1_tensor,X2_tensor, marker='o')\n",
    "plt.xlabel(\"X-axis\")\n",
    "plt.ylabel(\"Y-axis\")\n",
    "plt.title(\"Line Passing Through Points (-1, 1) and (12, 4)\")\n",
    "plt.grid(True)\n",
    "plt.show()"
   ]
  },
  {
   "cell_type": "code",
   "execution_count": 20,
   "id": "2d5038cd",
   "metadata": {},
   "outputs": [
    {
     "name": "stdout",
     "output_type": "stream",
     "text": [
      "Epoch 1/10\n",
      "1/1 [==============================] - 0s 311ms/step - loss: 13.0738 - mae: 13.0738\n",
      "Epoch 2/10\n",
      "1/1 [==============================] - 0s 6ms/step - loss: 11.6638 - mae: 11.6638\n",
      "Epoch 3/10\n",
      "1/1 [==============================] - 0s 6ms/step - loss: 10.2538 - mae: 10.2538\n",
      "Epoch 4/10\n",
      "1/1 [==============================] - 0s 5ms/step - loss: 8.8438 - mae: 8.8438\n",
      "Epoch 5/10\n",
      "1/1 [==============================] - 0s 6ms/step - loss: 7.4338 - mae: 7.4338\n",
      "Epoch 6/10\n",
      "1/1 [==============================] - 0s 7ms/step - loss: 6.0238 - mae: 6.0238\n",
      "Epoch 7/10\n",
      "1/1 [==============================] - 0s 5ms/step - loss: 5.0098 - mae: 5.0098\n",
      "Epoch 8/10\n",
      "1/1 [==============================] - 0s 6ms/step - loss: 4.4028 - mae: 4.4028\n",
      "Epoch 9/10\n",
      "1/1 [==============================] - 0s 5ms/step - loss: 4.1439 - mae: 4.1439\n",
      "Epoch 10/10\n",
      "1/1 [==============================] - 0s 8ms/step - loss: 3.8849 - mae: 3.8849\n"
     ]
    },
    {
     "data": {
      "text/plain": [
       "<keras.src.callbacks.History at 0x2cc41996750>"
      ]
     },
     "execution_count": 20,
     "metadata": {},
     "output_type": "execute_result"
    }
   ],
   "source": [
    "#1.create model\n",
    "tf.random.set_seed(42)\n",
    "model=tf.keras.Sequential([\n",
    "   tf.keras.layers.Dense(1)\n",
    "])\n",
    "#compile model\n",
    "#**model.compile(\n",
    " #   optimizer='sgd', loss='mse', metrics=[\"mae\"]\n",
    "#)**\n",
    "model.compile(loss=tf.keras.losses.mae,\n",
    "    optimizer=tf.keras.optimizers.SGD(),\n",
    "              \n",
    "              metrics=[\"mae\"])\n",
    "\n",
    "#fiting a model with epocs\n",
    "#model.fit(X1_tensor,X2_tensor,epochs=5,batch_size=128)\n",
    "model.fit(X1_tensor,X2_tensor,epochs=10)"
   ]
  },
  {
   "cell_type": "code",
   "execution_count": 21,
   "id": "ff3d55b1",
   "metadata": {},
   "outputs": [
    {
     "data": {
      "text/plain": [
       "(<tf.Tensor: shape=(1, 7), dtype=float32, numpy=array([[1., 2., 3., 4., 5., 6., 7.]], dtype=float32)>,\n",
       " <tf.Tensor: shape=(1, 7), dtype=float32, numpy=array([[ 2.,  4.,  6.,  8., 10., 12., 14.]], dtype=float32)>)"
      ]
     },
     "execution_count": 21,
     "metadata": {},
     "output_type": "execute_result"
    }
   ],
   "source": [
    "X1_tensor,X2_tensor"
   ]
  },
  {
   "cell_type": "code",
   "execution_count": 22,
   "id": "167b6d2a",
   "metadata": {},
   "outputs": [
    {
     "name": "stdout",
     "output_type": "stream",
     "text": [
      "1/1 [==============================] - 0s 67ms/step\n"
     ]
    },
    {
     "data": {
      "text/plain": [
       "array([[7.9699373]], dtype=float32)"
      ]
     },
     "execution_count": 22,
     "metadata": {},
     "output_type": "execute_result"
    }
   ],
   "source": [
    "aas=np.array([[0,0,0,0,0,0,8]])\n",
    "b=tf.constant(aas)\n",
    "b.ndim\n",
    "#aas.ndim\n",
    "model.predict(b)"
   ]
  },
  {
   "cell_type": "code",
   "execution_count": 23,
   "id": "cbd9189b",
   "metadata": {},
   "outputs": [
    {
     "name": "stdout",
     "output_type": "stream",
     "text": [
      "1/1 [==============================] - 0s 45ms/step\n",
      "[[120.62805]]\n"
     ]
    }
   ],
   "source": [
    "# Define the input data with the correct shape (7 features)\n",
    "input_data = np.array([[ 8,9,2,99,0,8,6]])\n",
    "\n",
    "input_tensor = tf.constant(input_data, dtype=tf.float32)\n",
    "\n",
    "# Make predictions\n",
    "y_pred = model.predict(input_tensor)\n",
    "\n",
    "# Print the predictions\n",
    "print(y_pred)\n"
   ]
  },
  {
   "cell_type": "code",
   "execution_count": 24,
   "id": "8df1d7a7",
   "metadata": {},
   "outputs": [
    {
     "name": "stdout",
     "output_type": "stream",
     "text": [
      "1/1 [==============================] - 0s 29ms/step\n",
      "[[49.089798]]\n"
     ]
    }
   ],
   "source": [
    "import numpy as np\n",
    "import tensorflow as tf\n",
    "\n",
    "# Define a single number for prediction\n",
    "input_number = 8\n",
    "\n",
    "# Create an array with 7 values similar to your training data\n",
    "input_data = np.array([[input_number * i for i in range(1, 8)]])\n",
    "\n",
    "# Convert input data to a TensorFlow tensor\n",
    "input_tensor = tf.constant(input_data, dtype=tf.float32)\n",
    "\n",
    "# Make predictions\n",
    "y_pred = model.predict(input_tensor)\n",
    "\n",
    "# Print the prediction\n",
    "print(y_pred)\n"
   ]
  },
  {
   "cell_type": "code",
   "execution_count": 25,
   "id": "1787faab",
   "metadata": {},
   "outputs": [],
   "source": [
    "#here to start a new modeling"
   ]
  },
  {
   "cell_type": "code",
   "execution_count": 26,
   "id": "ec9a6fdd",
   "metadata": {},
   "outputs": [
    {
     "data": {
      "text/plain": [
       "(array([-7., -4., -1.,  2.,  5.,  8., 11., 14.]),\n",
       " array([ 3.,  6.,  9., 12., 15., 18., 21., 24.]))"
      ]
     },
     "execution_count": 26,
     "metadata": {},
     "output_type": "execute_result"
    },
    {
     "data": {
      "image/png": "[encoded data removed]",
      "text/plain": [
       "<Figure size 640x480 with 1 Axes>"
      ]
     },
     "metadata": {},
     "output_type": "display_data"
    }
   ],
   "source": [
    "n1=np.array([-7.0,-4.0,-1.0,2.0,5.0,8.0,11.0,14.0])\n",
    "n2=np.array([3.0,6.0,9.0,12.0,15.0,18.0,21.0,24.0])\n",
    "plt.scatter(n1,n2)\n",
    "n1,n2"
   ]
  },
  {
   "cell_type": "code",
   "execution_count": 27,
   "id": "4b04d464",
   "metadata": {},
   "outputs": [
    {
     "data": {
      "text/plain": [
       "(<tf.Tensor: shape=(8,), dtype=float32, numpy=array([-7., -4., -1.,  2.,  5.,  8., 11., 14.], dtype=float32)>,\n",
       " <tf.Tensor: shape=(8,), dtype=float32, numpy=array([ 3.,  6.,  9., 12., 15., 18., 21., 24.], dtype=float32)>)"
      ]
     },
     "execution_count": 27,
     "metadata": {},
     "output_type": "execute_result"
    }
   ],
   "source": [
    "n=tf.cast(tf.constant(n1),dtype=tf.float32)\n",
    "m=tf.cast(tf.constant(n2),dtype=tf.float32)\n",
    "n,m"
   ]
  },
  {
   "cell_type": "code",
   "execution_count": 28,
   "id": "81bbacfa",
   "metadata": {},
   "outputs": [],
   "source": [
    "n=tf.reshape(n,[-1,1])\n",
    "m=tf.reshape(m,[-1,1])"
   ]
  },
  {
   "cell_type": "code",
   "execution_count": 29,
   "id": "b14d2420",
   "metadata": {},
   "outputs": [
    {
     "data": {
      "text/plain": [
       "(<matplotlib.collections.PathCollection at 0x2cc41606f50>, 2, 2)"
      ]
     },
     "execution_count": 29,
     "metadata": {},
     "output_type": "execute_result"
    },
    {
     "data": {
      "image/png": "[encoded data removed]",
      "text/plain": [
       "<Figure size 640x480 with 1 Axes>"
      ]
     },
     "metadata": {},
     "output_type": "display_data"
    }
   ],
   "source": [
    "plt.scatter(n,m),n.ndim,m.ndim"
   ]
  },
  {
   "cell_type": "code",
   "execution_count": 30,
   "id": "11af66fc",
   "metadata": {},
   "outputs": [
    {
     "data": {
      "text/plain": [
       "(TensorShape([1]), TensorShape([1]))"
      ]
     },
     "execution_count": 30,
     "metadata": {},
     "output_type": "execute_result"
    }
   ],
   "source": [
    "insha=n[0].shape\n",
    "insha1=m[0].shape\n",
    "insha,insha1"
   ]
  },
  {
   "cell_type": "code",
   "execution_count": 37,
   "id": "0f9b578c",
   "metadata": {},
   "outputs": [
    {
     "name": "stdout",
     "output_type": "stream",
     "text": [
      "Epoch 1/15\n",
      "1/1 [==============================] - 0s 260ms/step - loss: 11.9165 - mae: 11.9165\n",
      "Epoch 2/15\n",
      "1/1 [==============================] - 0s 6ms/step - loss: 11.7840 - mae: 11.7840\n",
      "Epoch 3/15\n",
      "1/1 [==============================] - 0s 5ms/step - loss: 11.6515 - mae: 11.6515\n",
      "Epoch 4/15\n",
      "1/1 [==============================] - 0s 5ms/step - loss: 11.5190 - mae: 11.5190\n",
      "Epoch 5/15\n",
      "1/1 [==============================] - 0s 6ms/step - loss: 11.3865 - mae: 11.3865\n",
      "Epoch 6/15\n",
      "1/1 [==============================] - 0s 6ms/step - loss: 11.2540 - mae: 11.2540\n",
      "Epoch 7/15\n",
      "1/1 [==============================] - 0s 6ms/step - loss: 11.1215 - mae: 11.1215\n",
      "Epoch 8/15\n",
      "1/1 [==============================] - 0s 7ms/step - loss: 10.9890 - mae: 10.9890\n",
      "Epoch 9/15\n",
      "1/1 [==============================] - 0s 6ms/step - loss: 10.8565 - mae: 10.8565\n",
      "Epoch 10/15\n",
      "1/1 [==============================] - 0s 7ms/step - loss: 10.7240 - mae: 10.7240\n",
      "Epoch 11/15\n",
      "1/1 [==============================] - 0s 7ms/step - loss: 10.5915 - mae: 10.5915\n",
      "Epoch 12/15\n",
      "1/1 [==============================] - 0s 6ms/step - loss: 10.4590 - mae: 10.4590\n",
      "Epoch 13/15\n",
      "1/1 [==============================] - 0s 6ms/step - loss: 10.3265 - mae: 10.3265\n",
      "Epoch 14/15\n",
      "1/1 [==============================] - 0s 6ms/step - loss: 10.1940 - mae: 10.1940\n",
      "Epoch 15/15\n",
      "1/1 [==============================] - 0s 8ms/step - loss: 10.0615 - mae: 10.0615\n"
     ]
    },
    {
     "data": {
      "text/plain": [
       "<keras.src.callbacks.History at 0x2cc41a10450>"
      ]
     },
     "execution_count": 37,
     "metadata": {},
     "output_type": "execute_result"
    }
   ],
   "source": [
    "#1.create model\n",
    "tf.random.set_seed(42)\n",
    "model=tf.keras.Sequential([\n",
    "   tf.keras.layers.Dense(1)\n",
    "])\n",
    "#compile model\n",
    "#**model.compile(\n",
    " #   optimizer='sgd', loss='mse', metrics=[\"mae\"]\n",
    "#)**\n",
    "model.compile(loss=tf.keras.losses.mae,\n",
    "    optimizer=tf.keras.optimizers.SGD(),\n",
    "              \n",
    "              metrics=[\"mae\"])\n",
    "\n",
    "#fiting a model with epocs\n",
    "#model.fit(X1_tensor,X2_tensor,epochs=5,batch_size=128)\n",
    "model.fit(n,m,epochs=15)"
   ]
  },
  {
   "cell_type": "code",
   "execution_count": 42,
   "id": "c9d32acf",
   "metadata": {},
   "outputs": [
    {
     "name": "stdout",
     "output_type": "stream",
     "text": [
      "1/1 [==============================] - 0s 44ms/step\n"
     ]
    },
    {
     "data": {
      "text/plain": [
       "array([[16.766066]], dtype=float32)"
      ]
     },
     "execution_count": 42,
     "metadata": {},
     "output_type": "execute_result"
    }
   ],
   "source": [
    "model.predict([17.0])"
   ]
  },
  {
   "cell_type": "code",
   "execution_count": null,
   "id": "e22604bb",
   "metadata": {},
   "outputs": [],
   "source": []
  }
 ],
 "metadata": {
  "kernelspec": {
   "display_name": "Python 3 (ipykernel)",
   "language": "python",
   "name": "python3"
  },
  "language_info": {
   "codemirror_mode": {
    "name": "ipython",
    "version": 3
   },
   "file_extension": ".py",
   "mimetype": "text/x-python",
   "name": "python",
   "nbconvert_exporter": "python",
   "pygments_lexer": "ipython3",
   "version": "3.11.4"
  }
 },
 "nbformat": 4,
 "nbformat_minor": 5
}
