{
 "cells": [
  {
   "cell_type": "code",
   "execution_count": 1,
   "id": "bdc346f3",
   "metadata": {},
   "outputs": [
    {
     "name": "stdout",
     "output_type": "stream",
     "text": [
      "WARNING:tensorflow:From C:\\Users\\xaadk\\AppData\\Roaming\\Python\\Python311\\site-packages\\keras\\src\\losses.py:2976: The name tf.losses.sparse_softmax_cross_entropy is deprecated. Please use tf.compat.v1.losses.sparse_softmax_cross_entropy instead.\n",
      "\n"
     ]
    }
   ],
   "source": [
    "import tensorflow as tf"
   ]
  },
  {
   "cell_type": "code",
   "execution_count": 2,
   "id": "d48b032f",
   "metadata": {},
   "outputs": [
    {
     "data": {
      "text/plain": [
       "<tf.Tensor: shape=(), dtype=int32, numpy=7>"
      ]
     },
     "execution_count": 2,
     "metadata": {},
     "output_type": "execute_result"
    }
   ],
   "source": [
    "scalar=tf.constant(7)\n",
    "scalar"
   ]
  },
  {
   "cell_type": "code",
   "execution_count": 3,
   "id": "487b37ce",
   "metadata": {},
   "outputs": [
    {
     "data": {
      "text/plain": [
       "0"
      ]
     },
     "execution_count": 3,
     "metadata": {},
     "output_type": "execute_result"
    }
   ],
   "source": [
    "scalar.ndim"
   ]
  },
  {
   "cell_type": "code",
   "execution_count": 4,
   "id": "e2a6e1d0",
   "metadata": {},
   "outputs": [
    {
     "data": {
      "text/plain": [
       "<tf.Tensor: shape=(2,), dtype=int32, numpy=array([10, 50])>"
      ]
     },
     "execution_count": 4,
     "metadata": {},
     "output_type": "execute_result"
    }
   ],
   "source": [
    "vector=tf.constant([10,50])\n",
    "vector"
   ]
  },
  {
   "cell_type": "code",
   "execution_count": 5,
   "id": "62826418",
   "metadata": {},
   "outputs": [
    {
     "data": {
      "text/plain": [
       "1"
      ]
     },
     "execution_count": 5,
     "metadata": {},
     "output_type": "execute_result"
    }
   ],
   "source": [
    "vector.ndim"
   ]
  },
  {
   "cell_type": "code",
   "execution_count": 6,
   "id": "a1410f85",
   "metadata": {},
   "outputs": [
    {
     "data": {
      "text/plain": [
       "<tf.Tensor: shape=(3, 3), dtype=int32, numpy=\n",
       "array([[ 10,  50,   5],\n",
       "       [ 20, 100,   8],\n",
       "       [  6,   3,  13]])>"
      ]
     },
     "execution_count": 6,
     "metadata": {},
     "output_type": "execute_result"
    }
   ],
   "source": [
    "matrix=tf.constant([[10,50,5],[20,100,8],[6,3,13]])\n",
    "matrix"
   ]
  },
  {
   "cell_type": "code",
   "execution_count": 7,
   "id": "886ae2ac",
   "metadata": {},
   "outputs": [
    {
     "data": {
      "text/plain": [
       "2"
      ]
     },
     "execution_count": 7,
     "metadata": {},
     "output_type": "execute_result"
    }
   ],
   "source": [
    "matrix.ndim"
   ]
  },
  {
   "cell_type": "code",
   "execution_count": 8,
   "id": "893d2ddc",
   "metadata": {},
   "outputs": [
    {
     "data": {
      "text/plain": [
       "<tf.Tensor: shape=(3, 2, 2), dtype=float16, numpy=\n",
       "array([[[ 11.,  22.],\n",
       "        [ 33.,  44.]],\n",
       "\n",
       "       [[ 55.,  66.],\n",
       "        [ 77.,  88.]],\n",
       "\n",
       "       [[ 99., 100.],\n",
       "        [110., 120.]]], dtype=float16)>"
      ]
     },
     "execution_count": 8,
     "metadata": {},
     "output_type": "execute_result"
    }
   ],
   "source": [
    "another_matrix = tf.constant(\n",
    "    [\n",
    "        [[11., 22.], [33., 44.]],\n",
    "        [[55., 66.], [77., 88.]],\n",
    "        [[99., 100.], [110., 120.]]\n",
    "    ],\n",
    "    dtype=tf.float16\n",
    ")\n",
    "another_matrix"
   ]
  },
  {
   "cell_type": "code",
   "execution_count": 9,
   "id": "e195a5e8",
   "metadata": {},
   "outputs": [
    {
     "name": "stdout",
     "output_type": "stream",
     "text": [
      "<tf.Variable 'Variable:0' shape=(2,) dtype=int32, numpy=array([10, 30])>\n",
      "tf.Tensor([22 44], shape=(2,), dtype=int32)\n"
     ]
    }
   ],
   "source": [
    "changeable_variable=tf.Variable([10,30])\n",
    "unchangeable_variable=tf.constant([22,44])\n",
    "print(changeable_variable)\n",
    "print(unchangeable_variable)"
   ]
  },
  {
   "cell_type": "code",
   "execution_count": 10,
   "id": "446ab258",
   "metadata": {},
   "outputs": [
    {
     "data": {
      "text/plain": [
       "<tf.Variable 'UnreadVariable' shape=(2,) dtype=int32, numpy=array([10, 50])>"
      ]
     },
     "execution_count": 10,
     "metadata": {},
     "output_type": "execute_result"
    }
   ],
   "source": [
    "changeable_variable[1].assign(50)"
   ]
  },
  {
   "cell_type": "code",
   "execution_count": 11,
   "id": "bf0e7dd5",
   "metadata": {},
   "outputs": [
    {
     "data": {
      "text/plain": [
       "<tf.Tensor: shape=(), dtype=int32, numpy=22>"
      ]
     },
     "execution_count": 11,
     "metadata": {},
     "output_type": "execute_result"
    }
   ],
   "source": [
    "unchangeable_variable[0]"
   ]
  },
  {
   "cell_type": "code",
   "execution_count": 12,
   "id": "293f12da",
   "metadata": {},
   "outputs": [
    {
     "name": "stdout",
     "output_type": "stream",
     "text": [
      "tf.Tensor([0.2733041 0.5020257 0.6628481 0.6473899 0.3857293], shape=(5,), dtype=float32)\n"
     ]
    }
   ],
   "source": [
    "rand_gen=tf.random.set_seed(43)\n",
    "rand_gen=tf.random.uniform(shape=[5])\n",
    "print(rand_gen)"
   ]
  },
  {
   "cell_type": "code",
   "execution_count": 13,
   "id": "c5740a43",
   "metadata": {},
   "outputs": [
    {
     "name": "stdout",
     "output_type": "stream",
     "text": [
      "tf.Tensor([0.2733041 0.5020257 0.6628481 0.6473899 0.3857293], shape=(5,), dtype=float32)\n"
     ]
    }
   ],
   "source": [
    "rand_ge=tf.random.set_seed(43)\n",
    "rand_ge=tf.random.uniform(shape=[5])\n",
    "print(rand_ge)"
   ]
  },
  {
   "cell_type": "code",
   "execution_count": 14,
   "id": "0ab64906",
   "metadata": {},
   "outputs": [
    {
     "data": {
      "text/plain": [
       "<tf.Tensor: shape=(2, 3), dtype=float32, numpy=\n",
       "array([[-0.7565803 , -0.06854702,  0.07595026],\n",
       "       [-1.2573844 , -0.23193763, -1.8107855 ]], dtype=float32)>"
      ]
     },
     "execution_count": 14,
     "metadata": {},
     "output_type": "execute_result"
    }
   ],
   "source": [
    "ran_ge=tf.random.Generator.from_seed(42)\n",
    "ran_ge=ran_ge.normal(shape=(2,3))\n",
    "ran_ge"
   ]
  },
  {
   "cell_type": "code",
   "execution_count": 15,
   "id": "9e79af61",
   "metadata": {},
   "outputs": [
    {
     "data": {
      "text/plain": [
       "<tf.Tensor: shape=(5,), dtype=bool, numpy=array([ True,  True,  True,  True,  True])>"
      ]
     },
     "execution_count": 15,
     "metadata": {},
     "output_type": "execute_result"
    }
   ],
   "source": [
    "rand_gen==rand_ge"
   ]
  },
  {
   "cell_type": "code",
   "execution_count": 16,
   "id": "0f0eaf1d",
   "metadata": {},
   "outputs": [
    {
     "name": "stdout",
     "output_type": "stream",
     "text": [
      "(<tf.Tensor: shape=(3,), dtype=float32, numpy=array([0.5168259 , 0.73396254, 0.39616835], dtype=float32)>, <tf.Tensor: shape=(3,), dtype=float32, numpy=array([0.37664938, 0.7430246 , 0.69035363], dtype=float32)>)\n"
     ]
    }
   ],
   "source": [
    "def functionBs():\n",
    "    a=tf.random.uniform(shape=[3])\n",
    "    b=tf.random.uniform(shape=[3])\n",
    "    return a,b\n",
    "print(functionBs())"
   ]
  },
  {
   "cell_type": "code",
   "execution_count": 17,
   "id": "769c9374",
   "metadata": {},
   "outputs": [
    {
     "name": "stdout",
     "output_type": "stream",
     "text": [
      "<tf.Variable 'Variable:0' shape=(3, 2) dtype=int32, numpy=\n",
      "array([[1, 2],\n",
      "       [3, 4],\n",
      "       [5, 6]])>\n",
      "tf.Tensor(\n",
      "[[11 21]\n",
      " [31 41]\n",
      " [51 61]], shape=(3, 2), dtype=int32)\n"
     ]
    }
   ],
   "source": [
    "def function_variable():\n",
    "    variable=tf.Variable([[1,2],[3,4],[5,6]])\n",
    "    return variable\n",
    "print(function_variable())\n",
    "def function_const():\n",
    "    constant_variable=tf.constant([[11,21],[31,41],[51,61]])\n",
    "    return constant_variable\n",
    "print(function_const())"
   ]
  },
  {
   "cell_type": "code",
   "execution_count": 18,
   "id": "84144b1b",
   "metadata": {},
   "outputs": [
    {
     "name": "stdout",
     "output_type": "stream",
     "text": [
      "<tf.Variable 'Variable:0' shape=(3, 2) dtype=int32, numpy=\n",
      "array([[201,   2],\n",
      "       [ 35,   4],\n",
      "       [  5,  23]])>\n"
     ]
    }
   ],
   "source": [
    "def fun_Assig():\n",
    "    change_variable=tf.Variable([[155,2],[35,4],[5,23]])\n",
    "    check_var=change_variable[0,0]\n",
    "    if(change_variable[0,0]==155):\n",
    "        change_variable[0,0].assign(201)\n",
    "        return change_variable\n",
    "    return change_variable\n",
    "print(fun_Assig())"
   ]
  },
  {
   "cell_type": "code",
   "execution_count": 19,
   "id": "142eb3ef",
   "metadata": {},
   "outputs": [
    {
     "data": {
      "text/plain": [
       "<tf.Tensor: shape=(3, 2), dtype=int32, numpy=\n",
       "array([[ 35,   4],\n",
       "       [  5,  23],\n",
       "       [201,   2]])>"
      ]
     },
     "execution_count": 19,
     "metadata": {},
     "output_type": "execute_result"
    }
   ],
   "source": [
    "shu=tf.constant([\n",
    "    [201,   2],\n",
    "       [ 35,   4],\n",
    "       [  5,  23]])\n",
    "tf.random.shuffle(shu,seed=42)\n"
   ]
  },
  {
   "cell_type": "code",
   "execution_count": 20,
   "id": "e504b37d",
   "metadata": {},
   "outputs": [
    {
     "data": {
      "text/plain": [
       "<tf.Tensor: shape=(3, 3), dtype=float32, numpy=\n",
       "array([[0.1199472 , 0.609588  , 0.84381545],\n",
       "       [0.8354591 , 0.9162973 , 0.49464953],\n",
       "       [0.5211133 , 0.7119492 , 0.45645106]], dtype=float32)>"
      ]
     },
     "execution_count": 20,
     "metadata": {},
     "output_type": "execute_result"
    }
   ],
   "source": [
    "#Generating a random number and the shuffle\n",
    "gen_random=tf.random.Generator.from_seed([42])\n",
    "gen_random=gen_random.uniform(shape=[3,3])\n",
    "tf.random.shuffle(gen_random)\n"
   ]
  },
  {
   "cell_type": "code",
   "execution_count": 21,
   "id": "f18d0010",
   "metadata": {},
   "outputs": [],
   "source": [
    "import numpy as np"
   ]
  },
  {
   "cell_type": "code",
   "execution_count": 22,
   "id": "8cf48cb5",
   "metadata": {},
   "outputs": [
    {
     "data": {
      "text/plain": [
       "array([ 1,  2,  3,  4,  5,  6,  7,  8,  9, 10, 11, 12, 13, 14, 15, 16, 17,\n",
       "       18, 19, 20, 21, 22, 23, 24])"
      ]
     },
     "execution_count": 22,
     "metadata": {},
     "output_type": "execute_result"
    }
   ],
   "source": [
    "data=np.arange(1,25,dtype=int)\n",
    "data\n"
   ]
  },
  {
   "cell_type": "code",
   "execution_count": 23,
   "id": "f5161110",
   "metadata": {},
   "outputs": [
    {
     "data": {
      "text/plain": [
       "<tf.Tensor: shape=(24,), dtype=int32, numpy=\n",
       "array([ 1,  2,  3,  4,  5,  6,  7,  8,  9, 10, 11, 12, 13, 14, 15, 16, 17,\n",
       "       18, 19, 20, 21, 22, 23, 24])>"
      ]
     },
     "execution_count": 23,
     "metadata": {},
     "output_type": "execute_result"
    }
   ],
   "source": [
    "A=tf.constant(data)\n",
    "A"
   ]
  },
  {
   "cell_type": "code",
   "execution_count": 24,
   "id": "be94c27b",
   "metadata": {},
   "outputs": [
    {
     "data": {
      "text/plain": [
       "<tf.Tensor: shape=(6, 2, 2), dtype=int32, numpy=\n",
       "array([[[21, 22],\n",
       "        [23, 24]],\n",
       "\n",
       "       [[ 5,  6],\n",
       "        [ 7,  8]],\n",
       "\n",
       "       [[17, 18],\n",
       "        [19, 20]],\n",
       "\n",
       "       [[ 9, 10],\n",
       "        [11, 12]],\n",
       "\n",
       "       [[ 1,  2],\n",
       "        [ 3,  4]],\n",
       "\n",
       "       [[13, 14],\n",
       "        [15, 16]]])>"
      ]
     },
     "execution_count": 24,
     "metadata": {},
     "output_type": "execute_result"
    }
   ],
   "source": [
    "A=tf.constant(data,shape=(6,2,2))\n",
    "tf.random.shuffle(A)\n",
    "#A=A.normal(shape=(3,4))\n",
    "#A"
   ]
  },
  {
   "cell_type": "code",
   "execution_count": 25,
   "id": "0a962155",
   "metadata": {},
   "outputs": [
    {
     "name": "stdout",
     "output_type": "stream",
     "text": [
      "[40 41 42 43 44 45 46 47 48 49 50 51 52 53 54 55 56 57 58 59 60 61 62 63\n",
      " 64 65 66 67 68 69 70 71 72 73 74 75 76 77 78 79 80 81 82 83 84 85 86 87\n",
      " 88 89 90 91 92 93 94 95 96 97 98 99]\n"
     ]
    }
   ],
   "source": [
    "def numfucntion():\n",
    "    value=np.arange(40,100,dtype=np.int64)\n",
    "    return value\n",
    "print(numfucntion())"
   ]
  },
  {
   "cell_type": "code",
   "execution_count": 26,
   "id": "883f3c4f",
   "metadata": {},
   "outputs": [
    {
     "data": {
      "text/plain": [
       "<tf.Tensor: shape=(2, 3, 10), dtype=int64, numpy=\n",
       "array([[[40, 41, 42, 43, 44, 45, 46, 47, 48, 49],\n",
       "        [50, 51, 52, 53, 54, 55, 56, 57, 58, 59],\n",
       "        [60, 61, 62, 63, 64, 65, 66, 67, 68, 69]],\n",
       "\n",
       "       [[70, 71, 72, 73, 74, 75, 76, 77, 78, 79],\n",
       "        [80, 81, 82, 83, 84, 85, 86, 87, 88, 89],\n",
       "        [90, 91, 92, 93, 94, 95, 96, 97, 98, 99]]], dtype=int64)>"
      ]
     },
     "execution_count": 26,
     "metadata": {},
     "output_type": "execute_result"
    }
   ],
   "source": [
    "changeable_var=tf.constant(numfucntion(),shape=(2,3,10))\n",
    "changeable_var"
   ]
  },
  {
   "cell_type": "code",
   "execution_count": 27,
   "id": "bc5b8235",
   "metadata": {},
   "outputs": [
    {
     "data": {
      "text/plain": [
       "<tf.Tensor: shape=(2, 3, 10), dtype=int64, numpy=\n",
       "array([[[70, 71, 72, 73, 74, 75, 76, 77, 78, 79],\n",
       "        [80, 81, 82, 83, 84, 85, 86, 87, 88, 89],\n",
       "        [90, 91, 92, 93, 94, 95, 96, 97, 98, 99]],\n",
       "\n",
       "       [[40, 41, 42, 43, 44, 45, 46, 47, 48, 49],\n",
       "        [50, 51, 52, 53, 54, 55, 56, 57, 58, 59],\n",
       "        [60, 61, 62, 63, 64, 65, 66, 67, 68, 69]]], dtype=int64)>"
      ]
     },
     "execution_count": 27,
     "metadata": {},
     "output_type": "execute_result"
    }
   ],
   "source": [
    "tf.random.shuffle(changeable_var,seed=43)"
   ]
  },
  {
   "cell_type": "code",
   "execution_count": 28,
   "id": "2c9a62c2",
   "metadata": {},
   "outputs": [
    {
     "data": {
      "text/plain": [
       "3"
      ]
     },
     "execution_count": 28,
     "metadata": {},
     "output_type": "execute_result"
    }
   ],
   "source": [
    "changeable_var.ndim"
   ]
  },
  {
   "cell_type": "code",
   "execution_count": 29,
   "id": "6de98b16",
   "metadata": {},
   "outputs": [
    {
     "data": {
      "text/plain": [
       "<tf.Tensor: shape=(), dtype=int32, numpy=40>"
      ]
     },
     "execution_count": 29,
     "metadata": {},
     "output_type": "execute_result"
    }
   ],
   "source": [
    "scalar=tf.constant(40,3)\n",
    "scalar"
   ]
  },
  {
   "cell_type": "code",
   "execution_count": 30,
   "id": "5b4322df",
   "metadata": {},
   "outputs": [
    {
     "data": {
      "text/plain": [
       "TensorShape([])"
      ]
     },
     "execution_count": 30,
     "metadata": {},
     "output_type": "execute_result"
    }
   ],
   "source": [
    "scalar.shape"
   ]
  },
  {
   "cell_type": "code",
   "execution_count": 31,
   "id": "2233ecc2",
   "metadata": {},
   "outputs": [
    {
     "data": {
      "text/plain": [
       "<tf.Tensor: shape=(), dtype=int32, numpy=0>"
      ]
     },
     "execution_count": 31,
     "metadata": {},
     "output_type": "execute_result"
    }
   ],
   "source": [
    "tf.rank(scalar)"
   ]
  },
  {
   "cell_type": "code",
   "execution_count": 32,
   "id": "f37678cb",
   "metadata": {},
   "outputs": [
    {
     "data": {
      "text/plain": [
       "<tf.Tensor: shape=(3, 2), dtype=int32, numpy=\n",
       "array([[1, 2],\n",
       "       [3, 4],\n",
       "       [4, 5]])>"
      ]
     },
     "execution_count": 32,
     "metadata": {},
     "output_type": "execute_result"
    }
   ],
   "source": [
    "vector=tf.constant([\n",
    "    [1,2],[3,4],[4,5]\n",
    "])\n",
    "vector"
   ]
  },
  {
   "cell_type": "code",
   "execution_count": 33,
   "id": "061567ed",
   "metadata": {},
   "outputs": [
    {
     "data": {
      "text/plain": [
       "<tf.Tensor: shape=(2,), dtype=int32, numpy=array([3, 2])>"
      ]
     },
     "execution_count": 33,
     "metadata": {},
     "output_type": "execute_result"
    }
   ],
   "source": [
    "tf.shape(vector)"
   ]
  },
  {
   "cell_type": "code",
   "execution_count": 34,
   "id": "9cbb3f8f",
   "metadata": {},
   "outputs": [
    {
     "data": {
      "text/plain": [
       "<tf.Tensor: shape=(), dtype=int32, numpy=2>"
      ]
     },
     "execution_count": 34,
     "metadata": {},
     "output_type": "execute_result"
    }
   ],
   "source": [
    "tf.rank(vector)"
   ]
  },
  {
   "cell_type": "code",
   "execution_count": 35,
   "id": "925ea91b",
   "metadata": {},
   "outputs": [],
   "source": [
    "#here we can make some dimensions and then we will check some rank size"
   ]
  },
  {
   "cell_type": "code",
   "execution_count": 36,
   "id": "146b0c72",
   "metadata": {},
   "outputs": [
    {
     "data": {
      "text/plain": [
       "<tf.Tensor: shape=(2, 3, 4, 5), dtype=float32, numpy=\n",
       "array([[[[0., 0., 0., 0., 0.],\n",
       "         [0., 0., 0., 0., 0.],\n",
       "         [0., 0., 0., 0., 0.],\n",
       "         [0., 0., 0., 0., 0.]],\n",
       "\n",
       "        [[0., 0., 0., 0., 0.],\n",
       "         [0., 0., 0., 0., 0.],\n",
       "         [0., 0., 0., 0., 0.],\n",
       "         [0., 0., 0., 0., 0.]],\n",
       "\n",
       "        [[0., 0., 0., 0., 0.],\n",
       "         [0., 0., 0., 0., 0.],\n",
       "         [0., 0., 0., 0., 0.],\n",
       "         [0., 0., 0., 0., 0.]]],\n",
       "\n",
       "\n",
       "       [[[0., 0., 0., 0., 0.],\n",
       "         [0., 0., 0., 0., 0.],\n",
       "         [0., 0., 0., 0., 0.],\n",
       "         [0., 0., 0., 0., 0.]],\n",
       "\n",
       "        [[0., 0., 0., 0., 0.],\n",
       "         [0., 0., 0., 0., 0.],\n",
       "         [0., 0., 0., 0., 0.],\n",
       "         [0., 0., 0., 0., 0.]],\n",
       "\n",
       "        [[0., 0., 0., 0., 0.],\n",
       "         [0., 0., 0., 0., 0.],\n",
       "         [0., 0., 0., 0., 0.],\n",
       "         [0., 0., 0., 0., 0.]]]], dtype=float32)>"
      ]
     },
     "execution_count": 36,
     "metadata": {},
     "output_type": "execute_result"
    }
   ],
   "source": [
    "rank_4val=tf.zeros(shape=(2,3,4,5))\n",
    "rank_4val"
   ]
  },
  {
   "cell_type": "code",
   "execution_count": 37,
   "id": "3a33dd87",
   "metadata": {},
   "outputs": [
    {
     "data": {
      "text/plain": [
       "<tf.Tensor: shape=(4,), dtype=int32, numpy=array([2, 3, 4, 5])>"
      ]
     },
     "execution_count": 37,
     "metadata": {},
     "output_type": "execute_result"
    }
   ],
   "source": [
    "tf.shape(rank_4val)"
   ]
  },
  {
   "cell_type": "code",
   "execution_count": 38,
   "id": "08f3d7f2",
   "metadata": {},
   "outputs": [
    {
     "data": {
      "text/plain": [
       "4"
      ]
     },
     "execution_count": 38,
     "metadata": {},
     "output_type": "execute_result"
    }
   ],
   "source": [
    "rank_4val.ndim"
   ]
  },
  {
   "cell_type": "code",
   "execution_count": 39,
   "id": "5846d7ec",
   "metadata": {},
   "outputs": [
    {
     "data": {
      "text/plain": [
       "<tf.Tensor: shape=(), dtype=int32, numpy=4>"
      ]
     },
     "execution_count": 39,
     "metadata": {},
     "output_type": "execute_result"
    }
   ],
   "source": [
    "tf.rank(rank_4val)"
   ]
  },
  {
   "cell_type": "code",
   "execution_count": 40,
   "id": "2b03579d",
   "metadata": {},
   "outputs": [
    {
     "data": {
      "text/plain": [
       "<tf.Tensor: shape=(), dtype=int32, numpy=120>"
      ]
     },
     "execution_count": 40,
     "metadata": {},
     "output_type": "execute_result"
    }
   ],
   "source": [
    "tf.size(rank_4val)"
   ]
  },
  {
   "cell_type": "code",
   "execution_count": 41,
   "id": "620ffdd9",
   "metadata": {},
   "outputs": [
    {
     "name": "stdout",
     "output_type": "stream",
     "text": [
      "There we can print the shapes: [2 3 4 5]\n",
      "There we can print only all the axis: 4\n",
      "There we can print the rank: tf.Tensor(4, shape=(), dtype=int32)\n",
      "There we can print the size: 120\n"
     ]
    }
   ],
   "source": [
    "print(\"There we can print the shapes:\",tf.shape(rank_4val).numpy())\n",
    "print(\"There we can print only all the axis:\",rank_4val.ndim)\n",
    "print(\"There we can print the rank:\",tf.rank(rank_4val))\n",
    "print(\"There we can print the size:\",tf.size(rank_4val).numpy())"
   ]
  },
  {
   "cell_type": "code",
   "execution_count": 42,
   "id": "4c4a56b9",
   "metadata": {},
   "outputs": [
    {
     "data": {
      "text/plain": [
       "[4, 5, 6]"
      ]
     },
     "execution_count": 42,
     "metadata": {},
     "output_type": "execute_result"
    }
   ],
   "source": [
    "var_list=[2,3,4,5,6]\n",
    "var_list[2:]\n"
   ]
  },
  {
   "cell_type": "code",
   "execution_count": 43,
   "id": "fe6dd81a",
   "metadata": {},
   "outputs": [
    {
     "data": {
      "text/plain": [
       "[2, 3, 4]"
      ]
     },
     "execution_count": 43,
     "metadata": {},
     "output_type": "execute_result"
    }
   ],
   "source": [
    "var_list[:3]"
   ]
  },
  {
   "cell_type": "code",
   "execution_count": 44,
   "id": "256c7fa1",
   "metadata": {},
   "outputs": [
    {
     "data": {
      "text/plain": [
       "<tf.Tensor: shape=(1, 3, 2, 5), dtype=float32, numpy=\n",
       "array([[[[0., 0., 0., 0., 0.],\n",
       "         [0., 0., 0., 0., 0.]],\n",
       "\n",
       "        [[0., 0., 0., 0., 0.],\n",
       "         [0., 0., 0., 0., 0.]],\n",
       "\n",
       "        [[0., 0., 0., 0., 0.],\n",
       "         [0., 0., 0., 0., 0.]]]], dtype=float32)>"
      ]
     },
     "execution_count": 44,
     "metadata": {},
     "output_type": "execute_result"
    }
   ],
   "source": [
    "rank_4val[:1,:3,:2]"
   ]
  },
  {
   "cell_type": "code",
   "execution_count": 45,
   "id": "d9dceadf",
   "metadata": {},
   "outputs": [
    {
     "data": {
      "text/plain": [
       "<tf.Tensor: shape=(1, 1, 1, 5), dtype=float32, numpy=array([[[[0., 0., 0., 0., 0.]]]], dtype=float32)>"
      ]
     },
     "execution_count": 45,
     "metadata": {},
     "output_type": "execute_result"
    }
   ],
   "source": [
    "#get the value from each index from array\n",
    "rank_4val[:1,:1,:1,:]"
   ]
  },
  {
   "cell_type": "code",
   "execution_count": 46,
   "id": "46dfd61a",
   "metadata": {},
   "outputs": [
    {
     "data": {
      "text/plain": [
       "<tf.Tensor: shape=(2, 5), dtype=float32, numpy=\n",
       "array([[1., 1., 1., 1., 1.],\n",
       "       [1., 1., 1., 1., 1.]], dtype=float32)>"
      ]
     },
     "execution_count": 46,
     "metadata": {},
     "output_type": "execute_result"
    }
   ],
   "source": [
    "rank2=tf.ones(shape=(2,5))\n",
    "rank2"
   ]
  },
  {
   "cell_type": "code",
   "execution_count": 47,
   "id": "f2893fbf",
   "metadata": {},
   "outputs": [
    {
     "data": {
      "text/plain": [
       "2"
      ]
     },
     "execution_count": 47,
     "metadata": {},
     "output_type": "execute_result"
    }
   ],
   "source": [
    "tf.rank(rank2).numpy()"
   ]
  },
  {
   "cell_type": "code",
   "execution_count": 48,
   "id": "0e2b4fa0",
   "metadata": {},
   "outputs": [
    {
     "data": {
      "text/plain": [
       "<tf.Tensor: shape=(1, 4), dtype=float32, numpy=array([[1., 1., 1., 1.]], dtype=float32)>"
      ]
     },
     "execution_count": 48,
     "metadata": {},
     "output_type": "execute_result"
    }
   ],
   "source": [
    "rank2[1:,1:]"
   ]
  },
  {
   "cell_type": "code",
   "execution_count": 49,
   "id": "7cb7eb63",
   "metadata": {},
   "outputs": [
    {
     "data": {
      "text/plain": [
       "(<tf.Tensor: shape=(2, 2), dtype=int32, numpy=\n",
       " array([[2, 3],\n",
       "        [5, 6]])>,\n",
       " 2)"
      ]
     },
     "execution_count": 49,
     "metadata": {},
     "output_type": "execute_result"
    }
   ],
   "source": [
    "rank_2=tf.constant([[2,3],[5,6]])\n",
    "rank_2,tf.rank(rank_2).numpy()"
   ]
  },
  {
   "cell_type": "code",
   "execution_count": 50,
   "id": "a3403b67",
   "metadata": {},
   "outputs": [
    {
     "data": {
      "text/plain": [
       "<tf.Tensor: shape=(2,), dtype=int32, numpy=array([3, 6])>"
      ]
     },
     "execution_count": 50,
     "metadata": {},
     "output_type": "execute_result"
    }
   ],
   "source": [
    "#we get the last item of each row\n",
    "rank_2[:,-1]"
   ]
  },
  {
   "cell_type": "code",
   "execution_count": 51,
   "id": "49abefd6",
   "metadata": {},
   "outputs": [
    {
     "data": {
      "text/plain": [
       "(<tf.Tensor: shape=(2, 2), dtype=float32, numpy=\n",
       " array([[2., 3.],\n",
       "        [9., 3.]], dtype=float32)>,\n",
       " <tf.Tensor: shape=(2, 2), dtype=float32, numpy=\n",
       " array([[12., 13.],\n",
       "        [19., 13.]], dtype=float32)>,\n",
       " <tf.Tensor: shape=(2, 2), dtype=float32, numpy=\n",
       " array([[-8., -7.],\n",
       "        [-1., -7.]], dtype=float32)>,\n",
       " <tf.Tensor: shape=(2, 2), dtype=float32, numpy=\n",
       " array([[2., 3.],\n",
       "        [9., 3.]], dtype=float32)>)"
      ]
     },
     "execution_count": 51,
     "metadata": {},
     "output_type": "execute_result"
    }
   ],
   "source": [
    "#apply basic operation on tensor\n",
    "const_val=tf.constant([[2,3],[9,3]],dtype=np.float32)\n",
    "const_val,const_val+10,const_val-10,const_val"
   ]
  },
  {
   "cell_type": "code",
   "execution_count": 52,
   "id": "d90e355a",
   "metadata": {},
   "outputs": [
    {
     "data": {
      "text/plain": [
       "<tf.Tensor: shape=(2, 2), dtype=float32, numpy=\n",
       "array([[ 4.,  9.],\n",
       "       [81.,  9.]], dtype=float32)>"
      ]
     },
     "execution_count": 52,
     "metadata": {},
     "output_type": "execute_result"
    }
   ],
   "source": [
    "tf.math.square(const_val)"
   ]
  },
  {
   "cell_type": "code",
   "execution_count": 53,
   "id": "7ceb3e3c",
   "metadata": {},
   "outputs": [
    {
     "data": {
      "text/plain": [
       "<tf.Tensor: shape=(2, 2), dtype=float32, numpy=\n",
       "array([[14., 15.],\n",
       "       [21., 15.]], dtype=float32)>"
      ]
     },
     "execution_count": 53,
     "metadata": {},
     "output_type": "execute_result"
    }
   ],
   "source": [
    "tf.math.add(const_val,12)"
   ]
  },
  {
   "cell_type": "code",
   "execution_count": 54,
   "id": "e2695ab4",
   "metadata": {},
   "outputs": [
    {
     "data": {
      "text/plain": [
       "<tf.Tensor: shape=(2, 2), dtype=float32, numpy=\n",
       "array([[1.4142135, 1.7320508],\n",
       "       [3.       , 1.7320508]], dtype=float32)>"
      ]
     },
     "execution_count": 54,
     "metadata": {},
     "output_type": "execute_result"
    }
   ],
   "source": [
    "tf.math.sqrt(const_val)"
   ]
  },
  {
   "cell_type": "code",
   "execution_count": 55,
   "id": "7dd87f3f",
   "metadata": {},
   "outputs": [],
   "source": [
    "#Main problem to multiple a matrix"
   ]
  },
  {
   "cell_type": "code",
   "execution_count": 56,
   "id": "7ee4e8b9",
   "metadata": {},
   "outputs": [
    {
     "data": {
      "text/plain": [
       "array([ 1.,  2.,  3.,  4.,  5.,  6.,  7.,  8.,  9., 10., 11., 12., 13.,\n",
       "       14., 15., 16., 17., 18.], dtype=float32)"
      ]
     },
     "execution_count": 56,
     "metadata": {},
     "output_type": "execute_result"
    }
   ],
   "source": [
    "#matrix1=tf.constant([[10,20],[30,40],[50,60]],dtype=np.int16)\n",
    "matrix1=np.arange(1,19,dtype=np.float32)\n",
    "matrix1"
   ]
  },
  {
   "cell_type": "code",
   "execution_count": 57,
   "id": "f4656666",
   "metadata": {},
   "outputs": [
    {
     "data": {
      "text/plain": [
       "<tf.Tensor: shape=(3, 6), dtype=float32, numpy=\n",
       "array([[ 1.,  2.,  3.,  4.,  5.,  6.],\n",
       "       [ 7.,  8.,  9., 10., 11., 12.],\n",
       "       [13., 14., 15., 16., 17., 18.]], dtype=float32)>"
      ]
     },
     "execution_count": 57,
     "metadata": {},
     "output_type": "execute_result"
    }
   ],
   "source": [
    "mat1=tf.constant(matrix1,shape=[3,6])\n",
    "mat1"
   ]
  },
  {
   "cell_type": "code",
   "execution_count": 58,
   "id": "f93a0037",
   "metadata": {},
   "outputs": [
    {
     "data": {
      "text/plain": [
       "array([20., 21., 22., 23., 24., 25., 26., 27., 28., 29., 30., 31., 32.,\n",
       "       33., 34., 35., 36., 37.], dtype=float32)"
      ]
     },
     "execution_count": 58,
     "metadata": {},
     "output_type": "execute_result"
    }
   ],
   "source": [
    "matrix2=np.arange(20,38,dtype=np.float32)\n",
    "matrix2"
   ]
  },
  {
   "cell_type": "code",
   "execution_count": 59,
   "id": "29c6f52c",
   "metadata": {},
   "outputs": [
    {
     "data": {
      "text/plain": [
       "<tf.Tensor: shape=(6, 3), dtype=float32, numpy=\n",
       "array([[20., 21., 22.],\n",
       "       [23., 24., 25.],\n",
       "       [26., 27., 28.],\n",
       "       [29., 30., 31.],\n",
       "       [32., 33., 34.],\n",
       "       [35., 36., 37.]], dtype=float32)>"
      ]
     },
     "execution_count": 59,
     "metadata": {},
     "output_type": "execute_result"
    }
   ],
   "source": [
    "mat2=tf.constant(matrix2,shape=[6,3])\n",
    "mat2"
   ]
  },
  {
   "cell_type": "code",
   "execution_count": 60,
   "id": "cb3b68e0",
   "metadata": {
    "scrolled": true
   },
   "outputs": [
    {
     "name": "stdout",
     "output_type": "stream",
     "text": [
      "[[ 630.  651.  672.]\n",
      " [1620. 1677. 1734.]\n",
      " [2610. 2703. 2796.]]\n"
     ]
    }
   ],
   "source": [
    "mat_res=tf.matmul(mat1,mat2)\n",
    "print(mat_res.numpy())"
   ]
  },
  {
   "cell_type": "code",
   "execution_count": 61,
   "id": "e26109fe",
   "metadata": {},
   "outputs": [],
   "source": [
    "#from here we can work with tensordot product"
   ]
  },
  {
   "cell_type": "code",
   "execution_count": 62,
   "id": "59533c58",
   "metadata": {},
   "outputs": [
    {
     "data": {
      "text/plain": [
       "(<tf.Tensor: shape=(3, 2), dtype=int32, numpy=\n",
       " array([[2, 3],\n",
       "        [4, 5],\n",
       "        [4, 5]])>,\n",
       " <tf.Tensor: shape=(3, 3), dtype=int32, numpy=\n",
       " array([[10, 20,  1],\n",
       "        [30, 40,  1],\n",
       "        [ 5,  0, 60]])>)"
      ]
     },
     "execution_count": 62,
     "metadata": {},
     "output_type": "execute_result"
    }
   ],
   "source": [
    "x=tf.constant([[2,3],[4,5],[4,5]])\n",
    "y=tf.constant([[10,20,1],[30,40,1],[5,0,60]])\n",
    "x,y"
   ]
  },
  {
   "cell_type": "code",
   "execution_count": 63,
   "id": "bf8352a0",
   "metadata": {},
   "outputs": [
    {
     "data": {
      "text/plain": [
       "<tf.Tensor: shape=(3, 2), dtype=int32, numpy=\n",
       "array([[160, 205],\n",
       "       [200, 260],\n",
       "       [246, 308]])>"
      ]
     },
     "execution_count": 63,
     "metadata": {},
     "output_type": "execute_result"
    }
   ],
   "source": [
    "z=tf.matmul(tf.transpose(y),x)\n",
    "z"
   ]
  },
  {
   "cell_type": "code",
   "execution_count": 64,
   "id": "1eaffbf3",
   "metadata": {},
   "outputs": [
    {
     "data": {
      "text/plain": [
       "<tf.Tensor: shape=(2, 3), dtype=int32, numpy=\n",
       "array([[160, 200, 246],\n",
       "       [205, 260, 308]])>"
      ]
     },
     "execution_count": 64,
     "metadata": {},
     "output_type": "execute_result"
    }
   ],
   "source": [
    "u_res=tf.matmul(tf.transpose(x),y)\n",
    "u_res"
   ]
  },
  {
   "cell_type": "code",
   "execution_count": 65,
   "id": "349006a5",
   "metadata": {},
   "outputs": [
    {
     "data": {
      "text/plain": [
       "<tf.Tensor: shape=(3, 2), dtype=int32, numpy=\n",
       "array([[160, 205],\n",
       "       [200, 260],\n",
       "       [246, 308]])>"
      ]
     },
     "execution_count": 65,
     "metadata": {},
     "output_type": "execute_result"
    }
   ],
   "source": [
    "tf.transpose(u_res)"
   ]
  },
  {
   "cell_type": "code",
   "execution_count": 66,
   "id": "ca16d1ef",
   "metadata": {},
   "outputs": [],
   "source": [
    "# from here we can start aggeration in "
   ]
  },
  {
   "cell_type": "code",
   "execution_count": 67,
   "id": "459b3472",
   "metadata": {},
   "outputs": [],
   "source": [
    "#/*\n",
    "#1.find the minimum\n",
    "#2.find the maximum\n",
    "#3.find the mean\n",
    "#4.find the sum\n",
    "#*/"
   ]
  },
  {
   "cell_type": "code",
   "execution_count": 68,
   "id": "3bdd182e",
   "metadata": {},
   "outputs": [
    {
     "data": {
      "text/plain": [
       "(<tf.Tensor: shape=(), dtype=int32, numpy=2>,\n",
       " <tf.Tensor: shape=(3,), dtype=int32, numpy=array([ 10, 210,   2])>,\n",
       " <tf.Tensor: shape=(2,), dtype=int32, numpy=array([ 2, 25])>)"
      ]
     },
     "execution_count": 68,
     "metadata": {},
     "output_type": "execute_result"
    }
   ],
   "source": [
    "x_min=tf.constant([[10, 25],\n",
    "       [230, 210],\n",
    "       [2, 38]])\n",
    "tf.math.reduce_min(x_min),tf.math.reduce_min(x_min,axis=1),tf.math.reduce_min(x_min,axis=0)"
   ]
  },
  {
   "cell_type": "code",
   "execution_count": 69,
   "id": "00a02fbe",
   "metadata": {},
   "outputs": [
    {
     "data": {
      "text/plain": [
       "(<tf.Tensor: shape=(), dtype=int32, numpy=60>,\n",
       " <tf.Tensor: shape=(3,), dtype=int32, numpy=array([30, 40, 60])>,\n",
       " <tf.Tensor: shape=(3,), dtype=int32, numpy=array([20, 40, 60])>)"
      ]
     },
     "execution_count": 69,
     "metadata": {},
     "output_type": "execute_result"
    }
   ],
   "source": [
    "x_max=tf.constant([[10, 20,  1],\n",
    "        [30, 40,  1],\n",
    "        [ 5,  0, 60]])\n",
    "tf.math.reduce_max(x_max),tf.math.reduce_max(x_max,axis=0),tf.math.reduce_max(x_max,axis=1)"
   ]
  },
  {
   "cell_type": "code",
   "execution_count": 70,
   "id": "a700b884",
   "metadata": {},
   "outputs": [
    {
     "data": {
      "text/plain": [
       "(<tf.Tensor: shape=(), dtype=int32, numpy=23>,\n",
       " <tf.Tensor: shape=(2,), dtype=int32, numpy=array([23, 23])>,\n",
       " <tf.Tensor: shape=(2,), dtype=int32, numpy=array([22, 24])>)"
      ]
     },
     "execution_count": 70,
     "metadata": {},
     "output_type": "execute_result"
    }
   ],
   "source": [
    "x_mean=tf.constant([[22, 22],\n",
    "        [24, 24]])\n",
    "tf.math.reduce_mean(x_mean),tf.math.reduce_mean(x_mean,axis=0),tf.math.reduce_mean(x_mean,axis=1)"
   ]
  },
  {
   "cell_type": "code",
   "execution_count": 71,
   "id": "1e0c2472",
   "metadata": {},
   "outputs": [
    {
     "data": {
      "text/plain": [
       "(<tf.Tensor: shape=(2, 3), dtype=int32, numpy=\n",
       " array([[1, 1, 1],\n",
       "        [1, 1, 1]])>,\n",
       " <tf.Tensor: shape=(), dtype=int32, numpy=2>)"
      ]
     },
     "execution_count": 71,
     "metadata": {},
     "output_type": "execute_result"
    }
   ],
   "source": [
    "x_addition=tf.constant([[1,1,1],[1,1,1]])\n",
    "x_addition,tf.rank(x_addition)"
   ]
  },
  {
   "cell_type": "code",
   "execution_count": 72,
   "id": "963f0b3b",
   "metadata": {},
   "outputs": [
    {
     "data": {
      "text/plain": [
       "(<tf.Tensor: shape=(), dtype=int32, numpy=6>,\n",
       " <tf.Tensor: shape=(3,), dtype=int32, numpy=array([2, 2, 2])>,\n",
       " <tf.Tensor: shape=(2,), dtype=int32, numpy=array([3, 3])>)"
      ]
     },
     "execution_count": 72,
     "metadata": {},
     "output_type": "execute_result"
    }
   ],
   "source": [
    "tf.math.reduce_sum(x_addition),tf.math.reduce_sum(x_addition,axis=0),tf.math.reduce_sum(x_addition,axis=1)"
   ]
  },
  {
   "cell_type": "code",
   "execution_count": 73,
   "id": "cbf63dbd",
   "metadata": {},
   "outputs": [
    {
     "data": {
      "text/plain": [
       "(<tf.Tensor: shape=(6, 2), dtype=int32, numpy=\n",
       " array([[45, 31],\n",
       "        [11, 32],\n",
       "        [26, 42],\n",
       "        [14, 10],\n",
       "        [20, 29],\n",
       "        [ 9, 18]])>,\n",
       " <tf.Tensor: shape=(), dtype=int32, numpy=9>,\n",
       " <tf.Tensor: shape=(), dtype=int32, numpy=45>,\n",
       " <tf.Tensor: shape=(), dtype=int32, numpy=23>,\n",
       " <tf.Tensor: shape=(), dtype=int32, numpy=287>)"
      ]
     },
     "execution_count": 73,
     "metadata": {},
     "output_type": "execute_result"
    }
   ],
   "source": [
    "x_rand=tf.random.uniform(minval=0,maxval=50,shape=(6,2),dtype=tf.dtypes.int32,\n",
    "    seed=42,)\n",
    "x_rand,tf.math.reduce_min(x_rand),tf.math.reduce_max(x_rand),tf.math.reduce_mean(x_rand),tf.math.reduce_sum(x_rand)"
   ]
  },
  {
   "cell_type": "code",
   "execution_count": 74,
   "id": "79692bba",
   "metadata": {},
   "outputs": [
    {
     "name": "stdout",
     "output_type": "stream",
     "text": [
      "random values: tf.Tensor(\n",
      "[[45 31]\n",
      " [11 32]\n",
      " [26 42]\n",
      " [14 10]\n",
      " [20 29]\n",
      " [ 9 18]], shape=(6, 2), dtype=int32)\n",
      "Find the min: 9\n",
      "find the max: 45\n",
      "find the mean: 23\n",
      "find the sum: 287\n"
     ]
    }
   ],
   "source": [
    "print(\"random values:\",x_rand)\n",
    "print(\"Find the min:\",tf.math.reduce_min(x_rand).numpy())\n",
    "print(\"find the max:\",tf.math.reduce_max(x_rand).numpy())\n",
    "print(\"find the mean:\",tf.math.reduce_mean(x_rand).numpy())\n",
    "print(\"find the sum:\",tf.math.reduce_sum(x_rand).numpy())"
   ]
  },
  {
   "cell_type": "code",
   "execution_count": 75,
   "id": "4a439a4c",
   "metadata": {},
   "outputs": [],
   "source": [
    "#variance and standard deviation"
   ]
  },
  {
   "cell_type": "code",
   "execution_count": 76,
   "id": "1b0216c0",
   "metadata": {},
   "outputs": [
    {
     "name": "stdout",
     "output_type": "stream",
     "text": [
      "Defaulting to user installation because normal site-packages is not writeable\n",
      "Requirement already satisfied: tensorflow-probability in c:\\users\\xaadk\\appdata\\roaming\\python\\python311\\site-packages (0.23.0)\n",
      "Requirement already satisfied: absl-py in c:\\users\\xaadk\\appdata\\roaming\\python\\python311\\site-packages (from tensorflow-probability) (2.1.0)\n",
      "Requirement already satisfied: six>=1.10.0 in h:\\anaconda\\lib\\site-packages (from tensorflow-probability) (1.16.0)\n",
      "Requirement already satisfied: numpy>=1.13.3 in h:\\anaconda\\lib\\site-packages (from tensorflow-probability) (1.24.3)\n",
      "Requirement already satisfied: decorator in h:\\anaconda\\lib\\site-packages (from tensorflow-probability) (5.1.1)\n",
      "Requirement already satisfied: cloudpickle>=1.3 in h:\\anaconda\\lib\\site-packages (from tensorflow-probability) (2.2.1)\n",
      "Requirement already satisfied: gast>=0.3.2 in c:\\users\\xaadk\\appdata\\roaming\\python\\python311\\site-packages (from tensorflow-probability) (0.5.4)\n",
      "Requirement already satisfied: dm-tree in c:\\users\\xaadk\\appdata\\roaming\\python\\python311\\site-packages (from tensorflow-probability) (0.1.8)\n",
      "Note: you may need to restart the kernel to use updated packages.\n"
     ]
    }
   ],
   "source": [
    "pip install tensorflow-probability"
   ]
  },
  {
   "cell_type": "code",
   "execution_count": 77,
   "id": "e0c4d263",
   "metadata": {},
   "outputs": [
    {
     "name": "stdout",
     "output_type": "stream",
     "text": [
      "WARNING:tensorflow:From C:\\Users\\xaadk\\AppData\\Roaming\\Python\\Python311\\site-packages\\tensorflow_probability\\python\\internal\\backend\\numpy\\_utils.py:48: The name tf.logging.TaskLevelStatusMessage is deprecated. Please use tf.compat.v1.logging.TaskLevelStatusMessage instead.\n",
      "\n",
      "WARNING:tensorflow:From C:\\Users\\xaadk\\AppData\\Roaming\\Python\\Python311\\site-packages\\tensorflow_probability\\python\\internal\\backend\\numpy\\_utils.py:48: The name tf.control_flow_v2_enabled is deprecated. Please use tf.compat.v1.control_flow_v2_enabled instead.\n",
      "\n"
     ]
    }
   ],
   "source": [
    "import tensorflow_probability as tfp"
   ]
  },
  {
   "cell_type": "code",
   "execution_count": 78,
   "id": "4edd1029",
   "metadata": {},
   "outputs": [
    {
     "data": {
      "text/plain": [
       "<tf.Tensor: shape=(3,), dtype=int32, numpy=array([6, 6, 6])>"
      ]
     },
     "execution_count": 78,
     "metadata": {},
     "output_type": "execute_result"
    }
   ],
   "source": [
    "asd=tf.constant([[2,3,4],[7,8,9]])\n",
    "tfp.stats.variance(asd)"
   ]
  },
  {
   "cell_type": "code",
   "execution_count": 79,
   "id": "beafd756",
   "metadata": {},
   "outputs": [
    {
     "data": {
      "text/plain": [
       "array([15, 51, 93, 79, 80, 96, 89, 36, 15, 51, 52, 18, 31, 10, 13, 50,  1,\n",
       "        6, 62, 75, 47, 63, 89, 33, 93, 30, 26, 46, 34, 68, 78, 70, 12,  4,\n",
       "        4, 49, 48, 48, 72,  3, 77, 17, 97, 17,  4, 31, 31, 75, 49, 55])"
      ]
     },
     "execution_count": 79,
     "metadata": {},
     "output_type": "execute_result"
    }
   ],
   "source": [
    "random_integers = np.random.randint(0, 100, size=50)  # Creates a 3x3 matrix of random integers between 0 and 99\n",
    "random_integers"
   ]
  },
  {
   "cell_type": "code",
   "execution_count": 80,
   "id": "a99e7c02",
   "metadata": {},
   "outputs": [
    {
     "data": {
      "text/plain": [
       "<tf.Tensor: shape=(), dtype=int32, numpy=841>"
      ]
     },
     "execution_count": 80,
     "metadata": {},
     "output_type": "execute_result"
    }
   ],
   "source": [
    "tfp.stats.variance(random_integers)"
   ]
  },
  {
   "cell_type": "code",
   "execution_count": 81,
   "id": "edd50773",
   "metadata": {},
   "outputs": [
    {
     "data": {
      "text/plain": [
       "<tf.Tensor: shape=(), dtype=float32, numpy=29.002766>"
      ]
     },
     "execution_count": 81,
     "metadata": {},
     "output_type": "execute_result"
    }
   ],
   "source": [
    "tf.math.reduce_std(tf.cast(random_integers,dtype=tf.float32))"
   ]
  },
  {
   "cell_type": "code",
   "execution_count": 82,
   "id": "4f361069",
   "metadata": {},
   "outputs": [],
   "source": [
    "#from here we can check the argmax and argmin"
   ]
  },
  {
   "cell_type": "code",
   "execution_count": 90,
   "id": "55c97bad",
   "metadata": {},
   "outputs": [
    {
     "data": {
      "text/plain": [
       "<tf.Tensor: shape=(50,), dtype=float32, numpy=\n",
       "array([0.78612185, 0.31726503, 0.1722914 , 0.70874476, 0.69730794,\n",
       "       0.8416065 , 0.3849386 , 0.34626675, 0.61888254, 0.47211683,\n",
       "       0.9020469 , 0.5086142 , 0.5376916 , 0.81251955, 0.6622436 ,\n",
       "       0.907583  , 0.22822821, 0.2983551 , 0.0993638 , 0.8922945 ,\n",
       "       0.8750814 , 0.683172  , 0.533355  , 0.9320179 , 0.75875485,\n",
       "       0.02582145, 0.51633835, 0.8449364 , 0.09198201, 0.55836475,\n",
       "       0.92458355, 0.8889388 , 0.23043036, 0.44789958, 0.7764789 ,\n",
       "       0.93059886, 0.18766773, 0.71336627, 0.12807798, 0.01143825,\n",
       "       0.18298864, 0.75429726, 0.5866393 , 0.6632829 , 0.4122008 ,\n",
       "       0.20791376, 0.251804  , 0.68970263, 0.5797553 , 0.78124344],\n",
       "      dtype=float32)>"
      ]
     },
     "execution_count": 90,
     "metadata": {},
     "output_type": "execute_result"
    }
   ],
   "source": [
    "x_ar=tf.random.uniform(shape=[50])\n",
    "tf.random.shuffle(x_ar)"
   ]
  },
  {
   "cell_type": "code",
   "execution_count": 91,
   "id": "8ddef62c",
   "metadata": {},
   "outputs": [
    {
     "data": {
      "text/plain": [
       "<tf.Tensor: shape=(), dtype=int64, numpy=43>"
      ]
     },
     "execution_count": 91,
     "metadata": {},
     "output_type": "execute_result"
    }
   ],
   "source": [
    "tf.argmax(x_ar)"
   ]
  },
  {
   "cell_type": "code",
   "execution_count": 95,
   "id": "8c5712a5",
   "metadata": {},
   "outputs": [
    {
     "data": {
      "text/plain": [
       "(<tf.Tensor: shape=(), dtype=float32, numpy=0.9320179>,\n",
       " <tf.Tensor: shape=(), dtype=float32, numpy=0.011438251>)"
      ]
     },
     "execution_count": 95,
     "metadata": {},
     "output_type": "execute_result"
    }
   ],
   "source": [
    "x_ar[tf.argmax(x_ar).numpy()],x_ar[tf.argmin(x_ar).numpy()]"
   ]
  },
  {
   "cell_type": "code",
   "execution_count": 96,
   "id": "3a4d3c07",
   "metadata": {},
   "outputs": [],
   "source": [
    "#squeezing and one-hot value"
   ]
  },
  {
   "cell_type": "code",
   "execution_count": 115,
   "id": "5151b6f0",
   "metadata": {},
   "outputs": [
    {
     "data": {
      "text/plain": [
       "<tf.Tensor: shape=(1, 1, 1, 20), dtype=float32, numpy=\n",
       "array([[[[0.19002962, 0.28850865, 0.19735968, 0.7204642 , 0.96737564,\n",
       "          0.9398055 , 0.40330863, 0.07204032, 0.2816105 , 0.00199497,\n",
       "          0.7772821 , 0.20449877, 0.1623416 , 0.8221327 , 0.9206803 ,\n",
       "          0.6421261 , 0.26286733, 0.49289572, 0.40931606, 0.5631454 ]]]],\n",
       "      dtype=float32)>"
      ]
     },
     "execution_count": 115,
     "metadata": {},
     "output_type": "execute_result"
    }
   ],
   "source": [
    "x_sq=tf.random.uniform(shape=[1,1,1,20])\n",
    "x_sq"
   ]
  },
  {
   "cell_type": "code",
   "execution_count": 102,
   "id": "c6148509",
   "metadata": {},
   "outputs": [
    {
     "data": {
      "text/plain": [
       "<tf.Tensor: shape=(20,), dtype=float32, numpy=\n",
       "array([0.7965336 , 0.52598166, 0.9817879 , 0.06619346, 0.28833055,\n",
       "       0.82715154, 0.5366701 , 0.02258646, 0.00983977, 0.6966177 ,\n",
       "       0.51939607, 0.41669846, 0.00864089, 0.23936772, 0.5651661 ,\n",
       "       0.5682931 , 0.3450929 , 0.54263484, 0.23034954, 0.40831494],\n",
       "      dtype=float32)>"
      ]
     },
     "execution_count": 102,
     "metadata": {},
     "output_type": "execute_result"
    }
   ],
   "source": [
    "res=tf.squeeze(x_sq)\n",
    "res"
   ]
  },
  {
   "cell_type": "code",
   "execution_count": 103,
   "id": "6e404073",
   "metadata": {},
   "outputs": [
    {
     "data": {
      "text/plain": [
       "<tf.Tensor: shape=(1, 1, 1, 20), dtype=bool, numpy=\n",
       "array([[[[ True,  True,  True,  True,  True,  True,  True,  True,\n",
       "           True,  True,  True,  True,  True,  True,  True,  True,\n",
       "           True,  True,  True,  True]]]])>"
      ]
     },
     "execution_count": 103,
     "metadata": {},
     "output_type": "execute_result"
    }
   ],
   "source": [
    "x_sq==res"
   ]
  },
  {
   "cell_type": "code",
   "execution_count": 121,
   "id": "e029e7a3",
   "metadata": {},
   "outputs": [
    {
     "data": {
      "text/plain": [
       "array([31,  2, 27,  7,  5, 28, 16, 48, 40, 18, 39, 48,  7, 44, 26, 28, 30,\n",
       "        2, 31, 44, 13, 27, 31, 43, 24, 16, 28, 45, 42,  6, 33, 46,  4, 44,\n",
       "       25,  7, 49, 25, 40, 17, 18, 21, 10, 20, 35, 49,  5, 29, 36,  1])"
      ]
     },
     "execution_count": 121,
     "metadata": {},
     "output_type": "execute_result"
    }
   ],
   "source": [
    "g=np.random.randint(1,50,size=50)\n",
    "g"
   ]
  },
  {
   "cell_type": "code",
   "execution_count": 138,
   "id": "765207c0",
   "metadata": {},
   "outputs": [
    {
     "data": {
      "text/plain": [
       "<tf.Tensor: shape=(50, 50), dtype=int32, numpy=\n",
       "array([[1, 1, 1, ..., 1, 1, 1],\n",
       "       [1, 1, 0, ..., 1, 1, 1],\n",
       "       [1, 1, 1, ..., 1, 1, 1],\n",
       "       ...,\n",
       "       [1, 1, 1, ..., 1, 1, 1],\n",
       "       [1, 1, 1, ..., 1, 1, 1],\n",
       "       [1, 0, 1, ..., 1, 1, 1]])>"
      ]
     },
     "execution_count": 138,
     "metadata": {},
     "output_type": "execute_result"
    }
   ],
   "source": [
    "xv=tf.one_hot(g,depth=50,on_value=0,off_value=1)\n",
    "xv"
   ]
  },
  {
   "cell_type": "code",
   "execution_count": 144,
   "id": "a81ae854",
   "metadata": {},
   "outputs": [
    {
     "data": {
      "text/plain": [
       "<tf.Tensor: shape=(50, 50), dtype=string, numpy=\n",
       "array([[b'f', b'f', b'f', ..., b'f', b'f', b'f'],\n",
       "       [b'f', b'f', b't', ..., b'f', b'f', b'f'],\n",
       "       [b'f', b'f', b'f', ..., b'f', b'f', b'f'],\n",
       "       ...,\n",
       "       [b'f', b'f', b'f', ..., b'f', b'f', b'f'],\n",
       "       [b'f', b'f', b'f', ..., b'f', b'f', b'f'],\n",
       "       [b'f', b't', b'f', ..., b'f', b'f', b'f']], dtype=object)>"
      ]
     },
     "execution_count": 144,
     "metadata": {},
     "output_type": "execute_result"
    }
   ],
   "source": [
    "tf.squeeze(xv1)\n",
    "xv1=tf.one_hot(g,depth=50,on_value=\"t\",off_value=\"f\")\n",
    "xv1"
   ]
  },
  {
   "cell_type": "code",
   "execution_count": 145,
   "id": "c5d24a86",
   "metadata": {},
   "outputs": [
    {
     "data": {
      "text/plain": [
       "<tf.Tensor: shape=(20, 4), dtype=float32, numpy=\n",
       "array([[1., 0., 0., 0.],\n",
       "       [1., 0., 0., 0.],\n",
       "       [1., 0., 0., 0.],\n",
       "       [1., 0., 0., 0.],\n",
       "       [1., 0., 0., 0.],\n",
       "       [1., 0., 0., 0.],\n",
       "       [1., 0., 0., 0.],\n",
       "       [1., 0., 0., 0.],\n",
       "       [1., 0., 0., 0.],\n",
       "       [1., 0., 0., 0.],\n",
       "       [1., 0., 0., 0.],\n",
       "       [1., 0., 0., 0.],\n",
       "       [1., 0., 0., 0.],\n",
       "       [1., 0., 0., 0.],\n",
       "       [1., 0., 0., 0.],\n",
       "       [1., 0., 0., 0.],\n",
       "       [1., 0., 0., 0.],\n",
       "       [1., 0., 0., 0.],\n",
       "       [1., 0., 0., 0.],\n",
       "       [1., 0., 0., 0.]], dtype=float32)>"
      ]
     },
     "execution_count": 145,
     "metadata": {},
     "output_type": "execute_result"
    }
   ],
   "source": [
    "p=tf.one_hot(tf.cast(res,dtype=tf.int32),depth=4)\n",
    "p"
   ]
  },
  {
   "cell_type": "code",
   "execution_count": 146,
   "id": "418b330b",
   "metadata": {},
   "outputs": [
    {
     "data": {
      "text/plain": [
       "<tf.Tensor: shape=(6, 6), dtype=float32, numpy=\n",
       "array([[0., 1., 0., 0., 0., 0.],\n",
       "       [0., 0., 1., 0., 0., 0.],\n",
       "       [0., 0., 0., 1., 0., 0.],\n",
       "       [0., 0., 0., 0., 1., 0.],\n",
       "       [0., 0., 0., 0., 0., 1.],\n",
       "       [0., 0., 0., 0., 0., 0.]], dtype=float32)>"
      ]
     },
     "execution_count": 146,
     "metadata": {},
     "output_type": "execute_result"
    }
   ],
   "source": [
    "some_list=[1,2,3,4,5,6]\n",
    "vs=tf.one_hot(some_list,depth=6)\n",
    "vs"
   ]
  },
  {
   "cell_type": "code",
   "execution_count": 148,
   "id": "0f349751",
   "metadata": {},
   "outputs": [
    {
     "data": {
      "text/plain": [
       "<tf.Tensor: shape=(6, 6), dtype=int32, numpy=\n",
       "array([[5, 3, 5, 5, 5, 5],\n",
       "       [5, 5, 3, 5, 5, 5],\n",
       "       [5, 5, 5, 3, 5, 5],\n",
       "       [5, 5, 5, 5, 3, 5],\n",
       "       [5, 5, 5, 5, 5, 3],\n",
       "       [5, 5, 5, 5, 5, 5]])>"
      ]
     },
     "execution_count": 148,
     "metadata": {},
     "output_type": "execute_result"
    }
   ],
   "source": [
    "vsw=tf.one_hot(some_list,depth=6,on_value=3,off_value=5)\n",
    "vsw"
   ]
  },
  {
   "cell_type": "code",
   "execution_count": null,
   "id": "8b716bce",
   "metadata": {},
   "outputs": [],
   "source": []
  }
 ],
 "metadata": {
  "kernelspec": {
   "display_name": "Python 3 (ipykernel)",
   "language": "python",
   "name": "python3"
  },
  "language_info": {
   "codemirror_mode": {
    "name": "ipython",
    "version": 3
   },
   "file_extension": ".py",
   "mimetype": "text/x-python",
   "name": "python",
   "nbconvert_exporter": "python",
   "pygments_lexer": "ipython3",
   "version": "3.11.4"
  }
 },
 "nbformat": 4,
 "nbformat_minor": 5
}
